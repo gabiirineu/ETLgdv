{
 "cells": [
  {
   "cell_type": "markdown",
   "metadata": {},
   "source": [
    "Importando as bibliotecas"
   ]
  },
  {
   "cell_type": "code",
   "execution_count": 4,
   "metadata": {},
   "outputs": [
    {
     "ename": "ModuleNotFoundError",
     "evalue": "No module named 'pandas'",
     "output_type": "error",
     "traceback": [
      "\u001b[1;31m---------------------------------------------------------------------------\u001b[0m",
      "\u001b[1;31mModuleNotFoundError\u001b[0m                       Traceback (most recent call last)",
      "Cell \u001b[1;32mIn[4], line 2\u001b[0m\n\u001b[0;32m      1\u001b[0m \u001b[38;5;66;03m# Importando as bibliotecas utilizadas para analisar com mais profundidade a base de dados, utilizando linguagem SQL e Python.\u001b[39;00m\n\u001b[1;32m----> 2\u001b[0m \u001b[38;5;28;01mimport\u001b[39;00m \u001b[38;5;21;01mpandas\u001b[39;00m \u001b[38;5;28;01mas\u001b[39;00m \u001b[38;5;21;01mpd\u001b[39;00m\n\u001b[0;32m      3\u001b[0m \u001b[38;5;28;01mimport\u001b[39;00m \u001b[38;5;21;01mcsv\u001b[39;00m\n",
      "\u001b[1;31mModuleNotFoundError\u001b[0m: No module named 'pandas'"
     ]
    }
   ],
   "source": [
    "# Importando as bibliotecas utilizadas para analisar com mais profundidade a base de dados, utilizando linguagem SQL e Python.\n",
    "import pandas as pd\n",
    "import csv"
   ]
  },
  {
   "cell_type": "markdown",
   "metadata": {},
   "source": [
    "Criação da query para unificar as duas tabelas de receita e despesa, soma do valor total e, por fim agrupamento por fontes de recurso e tipos de despesa."
   ]
  },
  {
   "cell_type": "code",
   "execution_count": null,
   "metadata": {},
   "outputs": [],
   "source": [
    "# Ler os arquivos CSV e carregar os dados em DataFrames\n",
    "gdvDespesasExcel = pd.read_csv('/content/gdvDespesasExcel.csv')\n",
    "gdvReceitasExcel = pd.read_csv('/content/gdvReceitasExcel.csv')\n",
    "\n",
    "# Consulta\n",
    "# Combinar os DataFrames usando as colunas 'fonte_recursos' e 'descricao' como chaves de junção\n",
    "resultado = pd.merge(gdvReceitasExcel, gdvDespesasExcel, \n",
    "                     left_on=['fonte_recursos', 'descricao'], \n",
    "                     right_on=['fonte_recursos', 'descricao'], \n",
    "                     how='outer')\n",
    "\n",
    "# Preencher os valores ausentes nas colunas 'fonte_recursos', 'descricao' e 'tipo' com valores existentes da mesma coluna\n",
    "# Isso não terá efeito, pois estamos preenchendo as colunas com elas mesmas (não há valores ausentes nelas)\n",
    "resultado['fonte_recursos'] = resultado['fonte_recursos'].fillna(resultado['fonte_recursos'])\n",
    "resultado['descricao'] = resultado['descricao'].fillna(resultado['descricao'])\n",
    "\n",
    "# Preencher os valores ausentes na coluna 'tipo' com os valores correspondentes na coluna 'tipo_receita' ou 'tipo_despesa'\n",
    "# Dependendo de onde o valor não estiver ausente\n",
    "# Isso pode ser útil para garantir que a coluna 'tipo' tenha um valor preenchido, mesmo que a outra tabela não forneça esse valor\n",
    "resultado['tipo'] = resultado['tipo_receita'].fillna(resultado['tipo_despesa'])\n",
    "\n",
    "\n",
    "# Converter colunas 'arrecadado' e 'liquidado' para numérico\n",
    "resultado['arrecadado'] = pd.to_numeric(resultado['arrecadado'], errors='coerce').fillna(0)\n",
    "resultado['liquidado'] = pd.to_numeric(resultado['liquidado'], errors='coerce').fillna(0)\n",
    "\n",
    "# Calcular a coluna 'total' e converter para string\n",
    "resultado['total'] = (resultado['arrecadado'] + resultado['liquidado']).astype(str)\n",
    "\n",
    "# Reordenar as colunas para exibição\n",
    "resultado = resultado[['fonte_recursos', 'descricao', 'tipo', 'total']]\n",
    "\n",
    "# Agrupar e ordenar os resultados\n",
    "resultado = resultado.groupby(['tipo', 'fonte_recursos', 'descricao']).agg({'total': 'sum'}).reset_index()\n",
    "resultado = resultado.sort_values(by=['tipo', 'fonte_recursos', 'descricao'])\n",
    "\n",
    "# Configurar o Pandas para exibir todas as linhas\n",
    "pd.options.display.max_rows = None\n",
    "\n",
    "# Exibir todos os dados da tabela como DataFrame\n",
    "display(resultado)\n",
    "\n"
   ]
  },
  {
   "cell_type": "markdown",
   "metadata": {},
   "source": [
    "Fazendo a ingestão do sqlite3 da máquina"
   ]
  },
  {
   "cell_type": "code",
   "execution_count": null,
   "metadata": {},
   "outputs": [],
   "source": [
    "import sqlite3\n",
    "\n",
    "# Ler o arquivo CSV em um DataFrame\n",
    "df = pd.read_csv('gdvDespesasExcel.csv')\n",
    "\n",
    "# Conectar-se ao banco de dados SQLite (cria o banco de dados se não existir)\n",
    "conn = sqlite3.connect('Teste.db')\n",
    "\n",
    "# Inserir os dados do DataFrame na tabela do banco de dados SQLite\n",
    "df.to_sql('gdvDespesas', conn, if_exists='replace', index=False)\n",
    "\n",
    "# Fechar a conexão com o banco de dados\n",
    "conn.close()\n",
    "\n",
    "print(\"Ingestão de dados concluída com sucesso!\")\n"
   ]
  },
  {
   "cell_type": "markdown",
   "metadata": {},
   "source": [
    "as 10 maiores fontes de recursos são: tesouro-dot.inicial e cred.suplementar, rec.proprio-adm.ind.-dot.inic.cr.supl., recursos vinculados-fundo especial de despes, recursos vinculados federais, recursos vinculados estaduais, tesouro-dot.inicial e cred.suplementar-intra, rec.prop.adm.ind-cred.p/supervavit financeir, rec.vinc.transf.federal/superavit financ., f.e.d - credito por superavit financeiro, rec.vinc.estaduais-cred.superavit financeiro\n",
    "\n",
    "os 10 maiores tipos de despesa são: transferencia a municipios-icms, pessoal civil pago pelo ddpe, contrib estado p/cobertura insuf fin-spprev, inativos-rpps, juros sobre a divida por contrato, transferencia a municipios-ipva, pessoal civil pago pela unidade, contribuicoes ao fundeb, contrib patronal-sao paulo previdencia-sppre, contratos de gestao-lei compl.846/98 alt.pos,  vencim., vantag.fixas-pessoal militar"
   ]
  }
 ],
 "metadata": {
  "kernelspec": {
   "display_name": "Python 3",
   "language": "python",
   "name": "python3"
  },
  "language_info": {
   "codemirror_mode": {
    "name": "ipython",
    "version": 3
   },
   "file_extension": ".py",
   "mimetype": "text/x-python",
   "name": "python",
   "nbconvert_exporter": "python",
   "pygments_lexer": "ipython3",
   "version": "3.10.7"
  }
 },
 "nbformat": 4,
 "nbformat_minor": 2
}
